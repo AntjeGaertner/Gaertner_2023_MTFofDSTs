{
 "cells": [
  {
   "cell_type": "markdown",
   "metadata": {},
   "source": [
    "# Canada fire chronosequence\n",
    "- Height is from living trees. \n",
    "- Distinction between nutrient poor and nutrient rich sites, but I discarded the distinction BC when taking a weighted mean of fall rates with the density of dead trees / site, there is only 1 year difference between estimates. \n",
    "- Also weighing the estimates by dead density, mean BA, mean Vol does not result in a measurable difference. Reporting ntree here, BA and Vol differ by 1 year both from ntree estimate."
   ]
  },
  {
   "cell_type": "markdown",
   "metadata": {},
   "source": [
    "![title](snag_fall_rates/Metsaranta2008DendrochronologicalCanada_tab3.png)"
   ]
  },
  {
   "cell_type": "code",
   "execution_count": 1,
   "metadata": {
    "execution": {
     "iopub.execute_input": "2023-01-16T19:31:53.874191Z",
     "iopub.status.busy": "2023-01-16T19:31:53.873744Z",
     "iopub.status.idle": "2023-01-16T19:31:53.886707Z",
     "shell.execute_reply": "2023-01-16T19:31:53.887137Z"
    }
   },
   "outputs": [
    {
     "data": {
      "application/javascript": [
       "IPython.OutputArea.prototype._should_scroll = function(lines) {\n",
       "    return false;\n",
       "}\n"
      ],
      "text/plain": [
       "<IPython.core.display.Javascript object>"
      ]
     },
     "metadata": {},
     "output_type": "display_data"
    }
   ],
   "source": [
    "%%javascript\n",
    "IPython.OutputArea.prototype._should_scroll = function(lines) {\n",
    "    return false;\n",
    "}"
   ]
  },
  {
   "cell_type": "code",
   "execution_count": 2,
   "metadata": {
    "execution": {
     "iopub.execute_input": "2023-01-16T19:31:53.892290Z",
     "iopub.status.busy": "2023-01-16T19:31:53.891878Z",
     "iopub.status.idle": "2023-01-16T19:31:55.516463Z",
     "shell.execute_reply": "2023-01-16T19:31:55.516893Z"
    }
   },
   "outputs": [],
   "source": [
    "# Load libraries\n",
    "import numpy as np\n",
    "import pandas as pd\n",
    "import matplotlib.pyplot as plt\n",
    "import seaborn as sns\n",
    "import scipy.optimize as opt\n",
    "from scipy.interpolate import interp1d\n",
    "import sys\n",
    "\n",
    "sys.path.append('/Users/antje/Update_PIK/')\n",
    "\n",
    "from classes import snag_MTF_func as sg\n",
    "from classes import boundaries as bd\n",
    "from classes import functions as fcy\n",
    "\n",
    "plot_setup = bd.plot_setup()\n",
    "params = {'mathtext.default':'regular'}\n",
    "plt.rcParams.update(params)\n",
    "\n",
    "inch_to_cm = 2.54\n",
    "\n",
    "%matplotlib inline\n",
    "%config Completer.use_jedi = False"
   ]
  },
  {
   "cell_type": "code",
   "execution_count": 3,
   "metadata": {
    "execution": {
     "iopub.execute_input": "2023-01-16T19:31:55.520659Z",
     "iopub.status.busy": "2023-01-16T19:31:55.520161Z",
     "iopub.status.idle": "2023-01-16T19:31:55.522274Z",
     "shell.execute_reply": "2023-01-16T19:31:55.522715Z"
    }
   },
   "outputs": [
    {
     "data": {
      "text/plain": [
       "['Prince Albert- rich',\n",
       " 'Prince Albert- poor',\n",
       " 'Candle Lake- rich',\n",
       " 'Candle Lake- poor',\n",
       " 'Flin Flon- rich',\n",
       " 'Flin Flon- poor',\n",
       " 'Jenpeg- rich',\n",
       " 'Jenpeg- poor',\n",
       " 'Thompson- rich',\n",
       " 'Thompson- poor']"
      ]
     },
     "execution_count": 1,
     "metadata": {},
     "output_type": "execute_result"
    }
   ],
   "source": [
    "site_names           = ['Prince Albert', 'Candle Lake', 'Flin Flon', 'Jenpeg', 'Thompson']\n",
    "site_names_poor      = [i + '- poor' for i in site_names]\n",
    "site_names_rich      = [i + '- rich' for i in site_names]\n",
    "site_names_all       = [None]*(len(site_names_poor)+len(site_names_rich))\n",
    "site_names_all[::2]  = site_names_rich\n",
    "site_names_all[1::2] = site_names_poor\n",
    "site_names_all"
   ]
  },
  {
   "cell_type": "code",
   "execution_count": 4,
   "metadata": {
    "execution": {
     "iopub.execute_input": "2023-01-16T19:31:55.534105Z",
     "iopub.status.busy": "2023-01-16T19:31:55.530850Z",
     "iopub.status.idle": "2023-01-16T19:31:55.637254Z",
     "shell.execute_reply": "2023-01-16T19:31:55.637682Z"
    }
   },
   "outputs": [],
   "source": [
    "##############\n",
    "#   Import   #\n",
    "##############\n",
    "\n",
    "save = False # put to FALSE while WIP!\n",
    "\n",
    "reference = 'Metsaranta2008DendrochronologicalCanada'\n",
    "\n",
    "species  = [           \n",
    "            ['Jack pine', 'Pinus banksiana']\n",
    "           ]\n",
    "\n",
    " \n",
    "country              = 'Canada'\n",
    "region               = 'Saskatchewan'\n",
    "biome                = 'Boreal'\n",
    "site_names           = ['Prince Albert', 'Candle Lake', 'Flin Flon', 'Jenpeg', 'Thompson']\n",
    "site_names_poor      = [i + '- poor' for i in site_names]\n",
    "site_names_rich      = [i + '- rich' for i in site_names]\n",
    "site_names_all       = [None]*(len(site_names_poor)+len(site_names_rich))\n",
    "site_names_all[::2]  = site_names_rich\n",
    "site_names_all[1::2] = site_names_poor\n",
    "mean_tC              = np.nan      # [degree C]\n",
    "mean_precip_mm       = np.nan      # [mm]\n",
    "y_coords             = [53.277095765986246, # Prince Albert -> Boreal Plains ecozone\n",
    "                        53.831585653175594, # Candle Lake   -> \"\" \n",
    "                        54.830860656055854, # Flin Flon     -> Boreal shield ecozone\n",
    "                        54.64062521100422 , # Jenpeg        -> \"\"\n",
    "                        55.778676150241054  # Thompson      -> \"\"\n",
    "                       ]\n",
    "y_coords_all         = np.repeat(y_coords, 2)  \n",
    "x_coords             = [-105.75388715328937, \n",
    "                        -105.1913405399521 , \n",
    "                        -101.87189632630448, \n",
    "                        -98.04416921893932 , \n",
    "                        -97.83933156686099 \n",
    "                       ]\n",
    "x_coords_all         = np.repeat(x_coords, 2)\n",
    "\n",
    "tlag               = np.nan      # n years until sangfall starts\n",
    "mean_age           = [74,76,84,84,78,74,80,71,71,69]      # Table 1: DBH age (year of origin)\n",
    "elevation          = np.nan\n",
    "min_height         = np.nan      # [m]\n",
    "min_diam           = np.nan      # [cm]\n",
    "max_diam           = np.nan\n",
    "\n",
    "DBH_classes        = np.nan\n",
    "DBH_classes_mean   = np.nan\n",
    "\n",
    "mean_DBH_all       = np.array([14.2,13.7,17.4,12.7,14.9,12.4,17.8,14.7,15.9,9.4]) # Table 1\n",
    "mean_DBH_poor      = np.mean(mean_DBH_all[1::2])\n",
    "mean_DBH_rich      = np.mean(mean_DBH_all[0::2])\n",
    "mean_DBH           = [mean_DBH_poor, mean_DBH_rich]\n",
    "\n",
    "mean_height_all    = np.array([14.6,12.7,15.9,13,14.9,12.2,15.6,13.4,13.7,8]) # Table 1\n",
    "mean_height_poor   = np.mean(mean_height_all[1::2])\n",
    "mean_height_rich   = np.mean(mean_height_all[0::2])\n",
    "mean_height        = [mean_height_poor, mean_height_rich]\n",
    "\n",
    "dead_density       = np.array([3900-2200, \n",
    "                               3300-2000,\n",
    "                               1767-1267,\n",
    "                               2556-1656,\n",
    "                               5300-1400,\n",
    "                               6300-1500,\n",
    "                               3000-1200,\n",
    "                               3700-1200,\n",
    "                               1900-1367,\n",
    "                               3222-2089]) # table 1: dead+live density-live density / ha\n",
    "dead_density_poor  = np.array(dead_density[1::2])\n",
    "dead_density_rich  = np.array(dead_density[0::2])\n",
    "\n",
    "tree_density       = np.array([3900, \n",
    "                               3300,\n",
    "                               1767,\n",
    "                               2556,\n",
    "                               5300,\n",
    "                               6300,\n",
    "                               3000,\n",
    "                               3700,\n",
    "                               1900,\n",
    "                               3222]) # live+dead density # ha-1 table 1\n",
    "\n",
    "speciesDOM         = 'Pinus banksiana' # scientific only\n",
    "speciesDOM_prc     = np.nan # dominant tree species percentage of total\n",
    "\n",
    "species_ntrees     = np.array([11,9,46,68,12,20,5,8,50,78])\n",
    "\n",
    "n_plots            = 1\n",
    "plot_size          = [0.09,0.09,0.01,0.01,0.01,0.01,0.01,0.01,0.01,0.01] # ha\n",
    "management         = 'Unmanaged; fire origin'\n",
    "mortality_cause    = np.nan\n",
    "    \n",
    "species_abundance_prc = np.nan\n",
    "age_classes           = np.nan\n",
    "tree_share_to_snag    = np.nan\n",
    "\n",
    "# Load data types\n",
    "dt = pd.read_excel(\"snag_fall_rates/201210_data_types_MTF_literature.xlsx\", index_col=None, header=[0,1])['Data types']\n",
    "method_snag_field_measurement      = dt.columns[(dt == reference).any()].item()\n",
    "\n",
    "ntree_Total                        = species_ntrees.sum()\n",
    "Remeasurement_interval_avg         = 1     # years\n",
    "survey_duration_total              = 70     # years\n",
    "survey_start_yr                    = 1935\n",
    "survey_end_yr                      = 1995\n",
    "TSD_determination_method           = 'Dendrochronology'   #cf. Method_snagfall_measurement -> Dendrochronology, Chronosequence, None if mean fall /year\n",
    "Model_type_fracRemain_snag         = 'Single exponential model, maximum likelihood estimate for k following Gore et al. (1985)'# ‘negative exponential…\n",
    "Model_type_fracRemain_snag_sigCov  = np.nan # significant (p<0.05) co-variats\n",
    "Model_type_fracRemain_snag_nsigCov = np.nan # not significant co-variats\n",
    "\n",
    "\n",
    "\n",
    "\n",
    "# Path to data\n",
    "path = '../data/snag_fall_rates/'\n",
    "\n",
    "#chambers = pd.read_csv(path+reference+'_fig1.csv', \n",
    "#            header=[0,1]\n",
    "#                     )\n",
    "\n",
    "metsaranta_arr = [0.02,0.014,0.015,0.016,0.04,0.034,0.038,0.05,0.018,0.034] # Snag fall rate as trees / year\n",
    "#metsaranta_arr = [sg.annualFall2k(f) for f in metsaranta_arr] # this is not needed because 1/k = MTF, and fall rate equals the mean standing time\n",
    "nutrient_status = np.tile(np.array(['rich', 'poor']),5)\n",
    "metsa_poor = metsaranta_arr[1::2]\n",
    "metsa_rich = metsaranta_arr[0::2]\n",
    "metsa_rich_k = np.mean(metsa_rich)\n",
    "metsa_poor_k = np.mean(metsa_poor)"
   ]
  },
  {
   "cell_type": "code",
   "execution_count": 5,
   "metadata": {
    "execution": {
     "iopub.execute_input": "2023-01-16T19:31:55.641977Z",
     "iopub.status.busy": "2023-01-16T19:31:55.641470Z",
     "iopub.status.idle": "2023-01-16T19:31:55.643421Z",
     "shell.execute_reply": "2023-01-16T19:31:55.643833Z"
    }
   },
   "outputs": [
    {
     "name": "stdout",
     "output_type": "stream",
     "text": [
      "k weighted ø poor:  34.0\n",
      "k weighted ø rich:  38.0\n",
      "\n",
      "\n",
      "k mean ø poor:  34.0\n",
      "k mean ø rich:  38.0\n",
      "\n",
      "k wght ntree ø:  30.0\n"
     ]
    }
   ],
   "source": [
    "k_wghtd_poor = 1/(np.sum(metsa_poor_k * dead_density_poor)/np.sum(dead_density_poor))\n",
    "k_wghtd_rich = 1/(np.sum(metsa_rich_k * dead_density_rich)/np.sum(dead_density_rich))\n",
    "\n",
    "\n",
    "print('k weighted ø poor: ', np.round(k_wghtd_poor))\n",
    "print('k weighted ø rich: ', np.round(k_wghtd_rich))\n",
    "print()\n",
    "print()\n",
    "print('k mean ø poor: ',np.round(1/metsa_poor_k))\n",
    "print('k mean ø rich: ',np.round(1/metsa_rich_k))\n",
    "\n",
    "k_all_ntree = 1 / (np.sum(metsaranta_arr*dead_density) /np.sum(dead_density))\n",
    "\n",
    "print()\n",
    "print('k wght ntree ø: ', np.round(k_all_ntree))\n"
   ]
  },
  {
   "cell_type": "code",
   "execution_count": 6,
   "metadata": {
    "execution": {
     "iopub.execute_input": "2023-01-16T19:31:55.646871Z",
     "iopub.status.busy": "2023-01-16T19:31:55.646345Z",
     "iopub.status.idle": "2023-01-16T19:31:55.648376Z",
     "shell.execute_reply": "2023-01-16T19:31:55.648782Z"
    }
   },
   "outputs": [
    {
     "data": {
      "text/plain": [
       "array([50.        , 71.42857143, 66.66666667, 62.5       , 25.        ,\n",
       "       29.41176471, 26.31578947, 20.        , 55.55555556, 29.41176471])"
      ]
     },
     "execution_count": 1,
     "metadata": {},
     "output_type": "execute_result"
    }
   ],
   "source": [
    "1/np.array(metsaranta_arr)"
   ]
  },
  {
   "cell_type": "code",
   "execution_count": 7,
   "metadata": {
    "execution": {
     "iopub.execute_input": "2023-01-16T19:31:55.654479Z",
     "iopub.status.busy": "2023-01-16T19:31:55.653971Z",
     "iopub.status.idle": "2023-01-16T19:31:55.950945Z",
     "shell.execute_reply": "2023-01-16T19:31:55.951371Z"
    }
   },
   "outputs": [
    {
     "name": "stdout",
     "output_type": "stream",
     "text": [
      "removing the old ENTRY\n",
      "removing the old ENTRY count Jack pine\n",
      "removing the old ENTRY\n",
      "removing the old ENTRY count Jack pine\n",
      "removing the old ENTRY\n",
      "removing the old ENTRY count Jack pine\n",
      "removing the old ENTRY\n",
      "removing the old ENTRY count Jack pine\n",
      "removing the old ENTRY\n",
      "removing the old ENTRY count Jack pine\n",
      "removing the old ENTRY\n",
      "removing the old ENTRY count Jack pine\n",
      "removing the old ENTRY\n",
      "removing the old ENTRY count Jack pine\n",
      "removing the old ENTRY\n",
      "removing the old ENTRY count Jack pine\n",
      "removing the old ENTRY\n",
      "removing the old ENTRY count Jack pine\n",
      "removing the old ENTRY\n",
      "removing the old ENTRY count Jack pine\n"
     ]
    }
   ],
   "source": [
    "#------------------------#\n",
    "#   Store MTF directly   #\n",
    "#------------------------#\n",
    "MTF_all                            = 1/np.array(metsaranta_arr)\n",
    "DBH_quadmean_site                  = np.nan\n",
    "species_quadmean_dbh               = np.nan\n",
    "N_species_contributing_to_site_MTF = 1\n",
    "MTF_method_notes                   = 'Table 3'\n",
    "MTF_method                         = 'fall rate'\n",
    "category                           = 'count'\n",
    "species_list                       = species[0]\n",
    "species_ntree                      = species_ntrees\n",
    "species_prc                        = speciesDOM_prc\n",
    "n_dbh_class                        = np.nan\n",
    "\n",
    "for i in range(len(site_names_all)):\n",
    "    DBH_mean_site = mean_DBH_all[i]\n",
    "    species_mean_dbh = mean_DBH_all[i]\n",
    "    sg.store_MTF_site_from_k(MTF_all[i],\n",
    "                             category,\n",
    "                             MTF_method,\n",
    "                             reference,\n",
    "                             site_names_all[i],\n",
    "                             speciesDOM,\n",
    "                             speciesDOM_prc,\n",
    "                             DBH_mean_site,\n",
    "                             DBH_quadmean_site,\n",
    "                             N_species_contributing_to_site_MTF,\n",
    "                             MTF_method_notes)\n",
    "    sg.store_MTF_species_from_k(reference,\n",
    "                                MTF_all[i],\n",
    "                                MTF_method,\n",
    "                                site_names_all[i],\n",
    "                                category,\n",
    "                                species_list,\n",
    "                                species_ntree[i],\n",
    "                                species_mean_dbh,\n",
    "                                species_quadmean_dbh,\n",
    "                                species_prc,\n",
    "                                n_dbh_class)"
   ]
  },
  {
   "cell_type": "raw",
   "metadata": {
    "execution": {
     "iopub.execute_input": "2022-03-17T13:35:13.773515Z",
     "iopub.status.busy": "2022-03-17T13:35:13.766379Z",
     "iopub.status.idle": "2022-03-17T13:35:13.978579Z",
     "shell.execute_reply": "2022-03-17T13:35:13.978992Z"
    }
   },
   "source": [
    "#———— SEVERAL LOCATIONS!!!! -> eg. Hogg2015FactorsCanada\n",
    "import os.path\n",
    "if os.path.isfile('201217_MTF_sites.csv') == True:\n",
    "\n",
    "    sites = pd.read_csv('201217_MTF_sites.csv')\n",
    "\n",
    "    if (sites.Reference == reference).any():\n",
    "        print('removing the old ENTRY')\n",
    "        sites = sites[sites.Reference != reference]\n",
    "    else:\n",
    "        print('file does not exist')\n",
    "\n",
    "# Site data    \n",
    "cols = ['Country', \n",
    "        'Region',\n",
    "        'Site name',\n",
    "        'Biome', \n",
    "        'Y coords',\n",
    "        'X coords',\n",
    "        'Minimum height',\n",
    "        'Minimum diameter',\n",
    "        'Maximum diameter',\n",
    "        'Dominant species',\n",
    "        'Dominant species % of total',\n",
    "        'Dominant_mortality cause',\n",
    "        'Management', \n",
    "        'Mean stand age',\n",
    "        'Method_snagfall_measurement', \n",
    "        'Fraction of live trees to snags',  # rest goes to SWD                                        \n",
    "        'N_plots',    \n",
    "        'Plot_area',  # hectare\n",
    "        'ntree_Total',\n",
    "        'Remeasurement_interval_avg', # years\n",
    "        'survey_duration_total', # years\n",
    "        'TSD_determination_method', #cf. Method_snagfall_measurement -> Dendrochronology, Chronosequence, None if mean fall /year\n",
    "        'Model_type_fracRemain_snag', # 'negative exponential…\n",
    "        'Model_type_fracRemain_snag_sigCov', # significant co-variats\n",
    "        'Model_type_fracRemain_snag_nsigCov', # not significant co-variats\n",
    "        'Elevation',\n",
    "        'Paper_T°C',\n",
    "        'Paper_precip_mm',\n",
    "        'Reference']\n",
    "\n",
    "for i in range(len(site_names_all)):\n",
    "    # Define next row\n",
    "    next_row = {\n",
    "                'Country': country,\n",
    "                'Region': region,\n",
    "                'Site name': site_names_all[i],\n",
    "                'Biome': biome,\n",
    "                'Y coords': y_coords_all[i],\n",
    "                'X coords': x_coords_all[i],\n",
    "                'Minimum height': min_height,\n",
    "                'Minimum diameter': min_diam,\n",
    "                'Maximum diameter': max_diam, \n",
    "                'Dominant species': species[0][1],\n",
    "                'Dominant species % of total':speciesDOM_prc,\n",
    "                'Dominant_mortality cause': mortality_cause,\n",
    "                'Management': management, \n",
    "                'Mean stand age': mean_age[i],\n",
    "                'Method_snagfall_measurement': method_snag_field_measurement, \n",
    "                'Fraction of live trees to snags': tree_share_to_snag,  # rest goes to SWD                                        \n",
    "                'N_plots': n_plots,    \n",
    "                'Plot_area': plot_size[i],  # hectare\n",
    "                'ntree_Total': species_ntrees[i],\n",
    "                'Remeasurement_interval_avg': Remeasurement_interval_avg, # years\n",
    "                'survey_duration_total':survey_duration_total, # years\n",
    "                'TSD_determination_method':TSD_determination_method, \n",
    "                'Model_type_fracRemain_snag':Model_type_fracRemain_snag, \n",
    "                'Model_type_fracRemain_snag_sigCov':Model_type_fracRemain_snag_sigCov, \n",
    "                'Model_type_fracRemain_snag_nsigCov':Model_type_fracRemain_snag_nsigCov, \n",
    "                'Elevation': elevation,\n",
    "                'Paper_T°C': mean_tC,\n",
    "                'Paper_precip_mm': mean_precip_mm,\n",
    "                'Reference': reference\n",
    "               }\n",
    "\n",
    "\n",
    "    sites = sites.append(next_row,ignore_index=True)\n",
    "\n",
    "sites = sites[cols]\n",
    "sites.to_csv('201217_MTF_sites.csv',index=False, na_rep='NA')\n",
    "\n",
    "sites "
   ]
  },
  {
   "cell_type": "code",
   "execution_count": 8,
   "metadata": {
    "execution": {
     "iopub.execute_input": "2023-01-16T19:31:55.955193Z",
     "iopub.status.busy": "2023-01-16T19:31:55.954739Z",
     "iopub.status.idle": "2023-01-16T19:31:56.243784Z",
     "shell.execute_reply": "2023-01-16T19:31:56.243360Z"
    }
   },
   "outputs": [
    {
     "name": "stdout",
     "output_type": "stream",
     "text": [
      "removing the old ENTRY\n",
      "removing the old ENTRY\n",
      "removing the old ENTRY\n",
      "removing the old ENTRY\n",
      "removing the old ENTRY\n",
      "removing the old ENTRY\n",
      "removing the old ENTRY\n",
      "removing the old ENTRY\n",
      "removing the old ENTRY\n",
      "removing the old ENTRY\n"
     ]
    },
    {
     "name": "stderr",
     "output_type": "stream",
     "text": [
      "/Users/antje/Update_PIK/classes/snag_MTF_func.py:1762: FutureWarning: The frame.append method is deprecated and will be removed from pandas in a future version. Use pandas.concat instead.\n",
      "  sites = sites.append(next_row,ignore_index=True)\n",
      "/Users/antje/Update_PIK/classes/snag_MTF_func.py:1762: FutureWarning: The frame.append method is deprecated and will be removed from pandas in a future version. Use pandas.concat instead.\n",
      "  sites = sites.append(next_row,ignore_index=True)\n",
      "/Users/antje/Update_PIK/classes/snag_MTF_func.py:1762: FutureWarning: The frame.append method is deprecated and will be removed from pandas in a future version. Use pandas.concat instead.\n",
      "  sites = sites.append(next_row,ignore_index=True)\n",
      "/Users/antje/Update_PIK/classes/snag_MTF_func.py:1762: FutureWarning: The frame.append method is deprecated and will be removed from pandas in a future version. Use pandas.concat instead.\n",
      "  sites = sites.append(next_row,ignore_index=True)\n",
      "/Users/antje/Update_PIK/classes/snag_MTF_func.py:1762: FutureWarning: The frame.append method is deprecated and will be removed from pandas in a future version. Use pandas.concat instead.\n",
      "  sites = sites.append(next_row,ignore_index=True)\n",
      "/Users/antje/Update_PIK/classes/snag_MTF_func.py:1762: FutureWarning: The frame.append method is deprecated and will be removed from pandas in a future version. Use pandas.concat instead.\n",
      "  sites = sites.append(next_row,ignore_index=True)\n",
      "/Users/antje/Update_PIK/classes/snag_MTF_func.py:1762: FutureWarning: The frame.append method is deprecated and will be removed from pandas in a future version. Use pandas.concat instead.\n",
      "  sites = sites.append(next_row,ignore_index=True)\n",
      "/Users/antje/Update_PIK/classes/snag_MTF_func.py:1762: FutureWarning: The frame.append method is deprecated and will be removed from pandas in a future version. Use pandas.concat instead.\n",
      "  sites = sites.append(next_row,ignore_index=True)\n",
      "/Users/antje/Update_PIK/classes/snag_MTF_func.py:1762: FutureWarning: The frame.append method is deprecated and will be removed from pandas in a future version. Use pandas.concat instead.\n",
      "  sites = sites.append(next_row,ignore_index=True)\n",
      "/Users/antje/Update_PIK/classes/snag_MTF_func.py:1762: FutureWarning: The frame.append method is deprecated and will be removed from pandas in a future version. Use pandas.concat instead.\n",
      "  sites = sites.append(next_row,ignore_index=True)\n"
     ]
    }
   ],
   "source": [
    "for i in range(len(site_names_all)):\n",
    "    sg.store_single_loc(country,\n",
    "                        region,\n",
    "                        biome,\n",
    "                        site_names_all[i],\n",
    "                        y_coords_all[i],\n",
    "                        x_coords_all[i],\n",
    "                        min_height,\n",
    "                        min_diam,\n",
    "                        max_diam,\n",
    "                        species[0][1],\n",
    "                        speciesDOM_prc,\n",
    "                        mortality_cause,\n",
    "                        management,\n",
    "                        mean_age[i],\n",
    "                        method_snag_field_measurement,\n",
    "                        tree_share_to_snag,\n",
    "                        n_plots,\n",
    "                        plot_size[i],\n",
    "                        species_ntrees[i],\n",
    "                        tree_density,\n",
    "                        Remeasurement_interval_avg,\n",
    "                        survey_duration_total,\n",
    "                        survey_start_yr,\n",
    "                        survey_end_yr,\n",
    "                        TSD_determination_method,\n",
    "                        Model_type_fracRemain_snag,\n",
    "                        Model_type_fracRemain_snag_sigCov,\n",
    "                        Model_type_fracRemain_snag_nsigCov,\n",
    "                        elevation,\n",
    "                        mean_tC,\n",
    "                        mean_precip_mm,\n",
    "                        reference)"
   ]
  },
  {
   "cell_type": "raw",
   "metadata": {},
   "source": [
    "def func(x,k):\n",
    "    return np.exp(-k*x)\n",
    "x = np.arange(0,300)\n",
    "\n",
    "#--- All\n",
    "with sns.color_palette(\"Blues\"):\n",
    "    for k in metsaranta_arr:\n",
    "        plt.plot(x, func(x,k), label='k = '+str(k))\n",
    "plt.plot(x, func(x,np.mean(metsaranta_arr)), label='mean', color='C5')\n",
    "plt.legend(bbox_to_anchor=(1,1), loc='upper left')  \n",
    "plt.xlabel('Time since death [years]')\n",
    "plt.ylabel('Proportion of snags \\n remaining')\n",
    "plt.title(reference)\n",
    "plt.show()\n",
    "\n",
    "k = np.mean(metsaranta_arr)\n",
    "\n",
    "metsaranta_result = sg.MTF_snags(x, func(x,k), k)\n",
    "metsaranta_r = np.zeros((5,))+np.nan\n",
    "metsaranta_r[0] = round(metsaranta_result[0])\n",
    "\n",
    "\n",
    "\n",
    "#--- Poor sites\n",
    "with sns.color_palette(\"Blues\"):\n",
    "    for k in metsa_poor:\n",
    "        plt.plot(x, func(x,k), label='k = '+str(k))\n",
    "plt.plot(x, func(x,np.mean(metsa_poor)), label='mean', color='C5')\n",
    "plt.legend(bbox_to_anchor=(1,1), loc='upper left')  \n",
    "plt.xlabel('Time since death [years]')\n",
    "plt.ylabel('Proportion of snags \\n remaining')\n",
    "plt.title(reference)\n",
    "plt.show()\n",
    "\n",
    "k = np.mean(metsa_poor)\n",
    "\n",
    "metsa_poor_result = sg.MTF_snags(x, func(x,k), k)\n",
    "metsa_poor_r = np.zeros((5,))+np.nan\n",
    "metsa_poor_r[0] = round(metsa_poor_result[0])\n",
    "\n",
    "\n",
    "\n",
    "#--- Rich sites\n",
    "with sns.color_palette(\"Blues\"):\n",
    "    for k in metsa_rich:\n",
    "        plt.plot(x, func(x,k), label='k = '+str(k))\n",
    "plt.plot(x, func(x,np.mean(metsa_rich)), label='mean', color='C5')\n",
    "plt.legend(bbox_to_anchor=(1,1), loc='upper left')  \n",
    "plt.xlabel('Time since death [years]')\n",
    "plt.ylabel('Proportion of snags \\n remaining')\n",
    "plt.title(reference)\n",
    "plt.show()\n",
    "\n",
    "k = np.mean(metsa_rich)\n",
    "\n",
    "metsa_rich_result = sg.MTF_snags(x, func(x,k), k)\n",
    "metsa_rich_r = np.zeros((5,))+np.nan\n",
    "metsa_rich_r[0] = round(metsa_rich_result[0])"
   ]
  }
 ],
 "metadata": {
  "kernelspec": {
   "display_name": "P3_21",
   "language": "python",
   "name": "p3_21"
  },
  "language_info": {
   "codemirror_mode": {
    "name": "ipython",
    "version": 3
   },
   "file_extension": ".py",
   "mimetype": "text/x-python",
   "name": "python",
   "nbconvert_exporter": "python",
   "pygments_lexer": "ipython3",
   "version": "3.8.5"
  }
 },
 "nbformat": 4,
 "nbformat_minor": 2
}
