{
 "cells": [
  {
   "cell_type": "code",
   "execution_count": 7,
   "metadata": {},
   "outputs": [
    {
     "data": {
      "application/javascript": [
       "IPython.OutputArea.prototype._should_scroll = function(lines) {\n",
       "    return false;\n",
       "}\n"
      ],
      "text/plain": [
       "<IPython.core.display.Javascript object>"
      ]
     },
     "metadata": {},
     "output_type": "display_data"
    }
   ],
   "source": [
    "%%javascript\n",
    "IPython.OutputArea.prototype._should_scroll = function(lines) {\n",
    "    return false;\n",
    "}"
   ]
  },
  {
   "cell_type": "code",
   "execution_count": 8,
   "metadata": {},
   "outputs": [],
   "source": [
    "# Load libraries\n",
    "import numpy as np\n",
    "import pandas as pd\n",
    "import matplotlib.pyplot as plt\n",
    "import seaborn as sns\n",
    "import sys\n",
    "import warnings\n",
    "warnings.simplefilter(action='ignore', category=FutureWarning) # ignore Future deprecation warning\n",
    "import os\n",
    "import pickle\n",
    "from scipy.stats import levene\n",
    "from scipy.stats import ttest_ind\n",
    "from scipy.stats import kruskal\n",
    "from scipy.stats import f_oneway\n",
    "from statsmodels.stats.multicomp import pairwise_tukeyhsd\n",
    "\n",
    "from classes import boundaries as bd\n",
    "from classes import functions as fcy\n",
    "from classes import snag_MTF_func as sg\n",
    "\n",
    "plot_setup = bd.plot_setup()\n",
    "params = {'mathtext.default':'regular'}\n",
    "plt.rcParams.update(params)\n",
    "\n",
    "%matplotlib inline\n",
    "%config Completer.use_jedi = False \n",
    "\n",
    "\n",
    "\n",
    "\n",
    "#--- Notebook run settings\n",
    "climate_data_list  = ['CRUclim','CRUNCEPv7','CHELSA30s','WorldClim30s','WorldClim10m',]\n",
    "climate_data       = climate_data_list[1]\n",
    "level_option_list = ['Site', 'Species']\n",
    "level_option      = level_option_list[1]    \n",
    "remove_data       = True"
   ]
  },
  {
   "cell_type": "code",
   "execution_count": 9,
   "metadata": {},
   "outputs": [],
   "source": [
    "#---------------#\n",
    "#  Import data  #\n",
    "#---------------#\n",
    "\n",
    "\n",
    "#--- Site MTF\n",
    "site_mtf = sg.MTF_database_import('data/MTF_database.xlsx','Site_MTF')\n",
    "site_mtf.loc[site_mtf['Site name'].isna(),'Site name'] = ''\n",
    "site_mtf.loc[site_mtf['Y coords'].isna(),'Y coords'] = ''\n",
    "site_mtf.loc[site_mtf['X coords'].isna(),'X coords'] = ''\n",
    "site_mtf_cp = site_mtf.copy()\n",
    "\n",
    "# Select data\n",
    "#site_mtf = site_mtf[site_mtf['MTF basis'] == 'count']\n",
    "\n",
    "#--- Species\n",
    "species_mtf = sg.MTF_database_import('data/MTF_database.xlsx','Species_MTF')\n",
    "species_mtf.loc[species_mtf['Site name'].isna(),'Site name'] = ''\n",
    "species_mtf.loc[species_mtf['Y coords'].isna(),'Y coords'] = ''\n",
    "species_mtf.loc[species_mtf['X coords'].isna(),'X coords'] = ''\n",
    "species_mtf_cp = species_mtf.copy()\n",
    "\n",
    "# Select data\n",
    "#species_mtf = species_mtf[species_mtf['MTF basis'] == 'count']"
   ]
  },
  {
   "cell_type": "code",
   "execution_count": 10,
   "metadata": {},
   "outputs": [
    {
     "name": "stdout",
     "output_type": "stream",
     "text": [
      "222\n",
      "218\n",
      "332\n",
      "322\n"
     ]
    }
   ],
   "source": [
    "#---------------#\n",
    "#  Import data  #\n",
    "#---------------#\n",
    "\n",
    "data = []\n",
    "data = [site_mtf, species_mtf]\n",
    "    \n",
    "#--------------------#\n",
    "#   Transform data   #\n",
    "#--------------------#\n",
    "\n",
    "for i,mtf in enumerate(data):\n",
    "    print(len(mtf))\n",
    "    if remove_data:    \n",
    "        mtf = mtf[~(mtf.Reference == 'Ritchie2014EstablishmentForest')].copy()\n",
    "        mtf = mtf[~(mtf.Reference == 'Campbell2016CarbonStates')].copy()\n",
    "\n",
    "    mtf.loc[:, 'MTF']           = mtf.loc[:, 'MTF'].apply(np.log) # necessary to fullfill normality of the residuals requirement of multiple regression and ANCOVA\n",
    "    data[i] = mtf\n",
    "    print(len(mtf))"
   ]
  },
  {
   "cell_type": "code",
   "execution_count": 11,
   "metadata": {},
   "outputs": [
    {
     "name": "stdout",
     "output_type": "stream",
     "text": [
      "\n",
      "#----------#\n",
      "#   Site   #\n",
      "#----------#\n",
      "\n",
      "\n",
      "#-------------#\n",
      "#   Species   #\n",
      "#-------------#\n",
      "\n"
     ]
    },
    {
     "data": {
      "image/png": "[encoded data removed]",
      "text/plain": [
       "<Figure size 1008x504 with 2 Axes>"
      ]
     },
     "metadata": {
      "needs_background": "light"
     },
     "output_type": "display_data"
    }
   ],
   "source": [
    "\n",
    "fac = 0.8\n",
    "sns.set_context(\"paper\", font_scale=1.8)\n",
    "plt.rcParams['xtick.bottom'] = True\n",
    "plt.rcParams['ytick.left']   = True\n",
    "plt.rcParams['xtick.color']  = 'lightgrey'\n",
    "plt.rcParams['ytick.color']  = 'lightgrey'\n",
    "fig, ax = plt.subplots(1,2, figsize=(14,7),sharey=True)\n",
    "\n",
    "for i,mtf in enumerate(data):\n",
    "    bd.print_header(level_option_list[i])\n",
    "\n",
    "    data[i] = mtf\n",
    "\n",
    "    g = sns.boxplot(data=mtf, \n",
    "                    hue='Mortality', \n",
    "                    y='MTF', \n",
    "                    x='MTF basis', \n",
    "                    width=0.6, \n",
    "                    palette=sns.color_palette(\"GnBu_r\",3),\n",
    "                    hue_order=['Insects', 'Fire', 'Other'],\n",
    "                    ax=ax[i])\n",
    "    \n",
    "    ax[0].legend([],[], frameon=False)\n",
    "    ax[0].set_ylabel(None)\n",
    "    \n",
    "    #--- Annotate signficance letters\n",
    "    if i == 1:\n",
    "        height1 = 6.1\n",
    "    else:\n",
    "        height1 = 5.6\n",
    "    ax[i].annotate(xy=(-0.23,height1),text='A',color='k',fontsize=13)\n",
    "    ax[i].annotate(xy=(0.17,height1),text='B',color='k',fontsize=13)\n",
    "    ax[i].annotate(xy=(-0.06,height1),text='AB',color='k',fontsize=13)\n",
    "\n",
    "    height = 6.4\n",
    "    ax[i].annotate(xy=(0.77,height),text='A',color='k',fontsize=13)\n",
    "    ax[i].annotate(xy=(0.94,height),text='AB',color='k',fontsize=13)\n",
    "    ax[i].annotate(xy=(1.17,height),text='B',color='k',fontsize=13)\n",
    "\n",
    "    height2 = 4.1\n",
    "    ax[i].annotate(xy=(1.97,height2),text='A',color='k',fontsize=13)\n",
    "    ax[i].annotate(xy=(2.17,height2),text='B',color='k',fontsize=13)\n",
    "    \n",
    "y_ticks_non_log = [int(i) for i in list(np.round(np.exp(np.arange(0,8))))]    \n",
    "    \n",
    "with warnings.catch_warnings():\n",
    "    warnings.simplefilter(\"ignore\")\n",
    "    ax[0].set_yticklabels(np.arange(0,8),color='k')\n",
    "    ax[0].set_xticklabels(['$MTF_{count}$', '$MTF_{size}$', '$MTF_{m}$'], color='k')\n",
    "    ax[1].set_xticklabels(['$MTF_{count}$', '$MTF_{size}$', '$MTF_{m}$'], color='k')\n",
    "    ax[1].yaxis.set_ticks_position('none')    \n",
    "bd.adjust_box_widths(fig, fac)\n",
    "ax[0].set_ylabel('log(MTF) [years]')\n",
    "ax[0].set_title('Site')\n",
    "ax[1].set_title('Species')\n",
    "ax[1].set_ylabel(\"\")\n",
    "ax[0].set_xlabel(\"\")\n",
    "ax[1].set_xlabel(\"\")\n",
    "plt.subplots_adjust(wspace=0.02)\n",
    "ax[1].legend(bbox_to_anchor=(1,1.02), loc='upper left', title='Mortality')\n",
    "ax[0].annotate(xy=(-0.4,6.5),text='(a)',color='k')\n",
    "ax[1].annotate(xy=(-0.4,6.5),text='(b)',color='k')\n",
    "\n",
    "\n",
    "\n",
    "\n",
    "\n",
    "leg = ax[1].get_legend()\n",
    "leg.set_frame_on(False)\n",
    "plt.ylim(-0,7)\n",
    "plt.savefig('Appendix_FigureB1_logMTF_by_mortality_site_species.png', dpi=300, bbox_inches='tight')\n",
    "plt.show()"
   ]
  },
  {
   "cell_type": "code",
   "execution_count": 12,
   "metadata": {},
   "outputs": [
    {
     "name": "stdout",
     "output_type": "stream",
     "text": [
      "\n",
      "=============================\n",
      "\n",
      "             Site             \n",
      "\n",
      "=============================\n",
      "\n",
      "218\n",
      "\n",
      "=============\n",
      "|           |\n",
      "|   count   |\n",
      "|           |\n",
      "=============\n",
      "\n",
      "\n",
      "#---------------------#\n",
      "#   Insects vs Fire   #\n",
      "#---------------------#\n",
      "\n"
     ]
    },
    {
     "data": {
      "text/plain": [
       "KruskalResult(statistic=2.5933821189945903, pvalue=0.10731096980159545)"
      ]
     },
     "metadata": {},
     "output_type": "display_data"
    },
    {
     "name": "stdout",
     "output_type": "stream",
     "text": [
      "\n",
      "#----------------------#\n",
      "#   Insects vs Other   #\n",
      "#----------------------#\n",
      "\n",
      "Other & Insects have homogeneity of variances.\n"
     ]
    },
    {
     "data": {
      "text/plain": [
       "Ttest_indResult(statistic=-3.155368943480776, pvalue=0.002559796596943848)"
      ]
     },
     "metadata": {},
     "output_type": "display_data"
    },
    {
     "name": "stdout",
     "output_type": "stream",
     "text": [
      "\n",
      "#-------------------#\n",
      "#   Fire vs Other   #\n",
      "#-------------------#\n",
      "\n",
      "Fire & Other have homogeneity of variances.\n"
     ]
    },
    {
     "data": {
      "text/plain": [
       "Ttest_indResult(statistic=-1.2702897296390565, pvalue=0.20831073268384934)"
      ]
     },
     "metadata": {},
     "output_type": "display_data"
    },
    {
     "name": "stdout",
     "output_type": "stream",
     "text": [
      "\n",
      "=============\n",
      "|           |\n",
      "|   cmass   |\n",
      "|           |\n",
      "=============\n",
      "\n",
      "\n",
      "#---------------------#\n",
      "#   Insects vs Fire   #\n",
      "#---------------------#\n",
      "\n"
     ]
    },
    {
     "data": {
      "text/plain": [
       "KruskalResult(statistic=1.2379648858936207, pvalue=0.2658636307050985)"
      ]
     },
     "metadata": {},
     "output_type": "display_data"
    },
    {
     "name": "stdout",
     "output_type": "stream",
     "text": [
      "\n",
      "#----------------------#\n",
      "#   Insects vs Other   #\n",
      "#----------------------#\n",
      "\n",
      "Other & Insects have homogeneity of variances.\n"
     ]
    },
    {
     "data": {
      "text/plain": [
       "Ttest_indResult(statistic=-2.7269050176145995, pvalue=0.008480882101739381)"
      ]
     },
     "metadata": {},
     "output_type": "display_data"
    },
    {
     "name": "stdout",
     "output_type": "stream",
     "text": [
      "\n",
      "#-------------------#\n",
      "#   Fire vs Other   #\n",
      "#-------------------#\n",
      "\n",
      "Fire & Other have homogeneity of variances.\n"
     ]
    },
    {
     "data": {
      "text/plain": [
       "Ttest_indResult(statistic=-1.123942294164999, pvalue=0.26498965311199557)"
      ]
     },
     "metadata": {},
     "output_type": "display_data"
    },
    {
     "name": "stdout",
     "output_type": "stream",
     "text": [
      "\n",
      "=========\n",
      "|       |\n",
      "|   c   |\n",
      "|       |\n",
      "=========\n",
      "\n",
      "\n",
      "#---------------------#\n",
      "#   Insects vs Fire   #\n",
      "#---------------------#\n",
      "\n"
     ]
    },
    {
     "name": "stderr",
     "output_type": "stream",
     "text": [
      "/Users/antje/opt/anaconda3/lib/python3.8/site-packages/numpy/core/fromnumeric.py:3440: RuntimeWarning: Mean of empty slice.\n",
      "  return _methods._mean(a, axis=axis, dtype=dtype,\n",
      "/Users/antje/opt/anaconda3/lib/python3.8/site-packages/numpy/core/_methods.py:189: RuntimeWarning: invalid value encountered in double_scalars\n",
      "  ret = ret.dtype.type(ret / rcount)\n"
     ]
    },
    {
     "data": {
      "text/plain": [
       "KruskalResult(statistic=nan, pvalue=nan)"
      ]
     },
     "metadata": {},
     "output_type": "display_data"
    },
    {
     "name": "stdout",
     "output_type": "stream",
     "text": [
      "\n",
      "#----------------------#\n",
      "#   Insects vs Other   #\n",
      "#----------------------#\n",
      "\n"
     ]
    },
    {
     "data": {
      "text/plain": [
       "KruskalResult(statistic=nan, pvalue=nan)"
      ]
     },
     "metadata": {},
     "output_type": "display_data"
    },
    {
     "name": "stdout",
     "output_type": "stream",
     "text": [
      "\n",
      "#-------------------#\n",
      "#   Fire vs Other   #\n",
      "#-------------------#\n",
      "\n",
      "Fire & Other have homogeneity of variances.\n"
     ]
    },
    {
     "data": {
      "text/plain": [
       "Ttest_indResult(statistic=2.743571368849032, pvalue=0.008760528736733105)"
      ]
     },
     "metadata": {},
     "output_type": "display_data"
    },
    {
     "name": "stdout",
     "output_type": "stream",
     "text": [
      "\n",
      "================================\n",
      "\n",
      "             Species             \n",
      "\n",
      "================================\n",
      "\n",
      "322\n",
      "\n",
      "=============\n",
      "|           |\n",
      "|   count   |\n",
      "|           |\n",
      "=============\n",
      "\n",
      "\n",
      "#---------------------#\n",
      "#   Insects vs Fire   #\n",
      "#---------------------#\n",
      "\n"
     ]
    },
    {
     "data": {
      "text/plain": [
       "KruskalResult(statistic=2.5933821189945903, pvalue=0.10731096980159545)"
      ]
     },
     "metadata": {},
     "output_type": "display_data"
    },
    {
     "name": "stdout",
     "output_type": "stream",
     "text": [
      "\n",
      "#----------------------#\n",
      "#   Insects vs Other   #\n",
      "#----------------------#\n",
      "\n",
      "Other & Insects have homogeneity of variances.\n"
     ]
    },
    {
     "data": {
      "text/plain": [
       "Ttest_indResult(statistic=-3.155368943480776, pvalue=0.002559796596943848)"
      ]
     },
     "metadata": {},
     "output_type": "display_data"
    },
    {
     "name": "stdout",
     "output_type": "stream",
     "text": [
      "\n",
      "#-------------------#\n",
      "#   Fire vs Other   #\n",
      "#-------------------#\n",
      "\n",
      "Fire & Other have homogeneity of variances.\n"
     ]
    },
    {
     "data": {
      "text/plain": [
       "Ttest_indResult(statistic=-1.2702897296390565, pvalue=0.20831073268384934)"
      ]
     },
     "metadata": {},
     "output_type": "display_data"
    },
    {
     "name": "stdout",
     "output_type": "stream",
     "text": [
      "\n",
      "=============\n",
      "|           |\n",
      "|   cmass   |\n",
      "|           |\n",
      "=============\n",
      "\n",
      "\n",
      "#---------------------#\n",
      "#   Insects vs Fire   #\n",
      "#---------------------#\n",
      "\n"
     ]
    },
    {
     "data": {
      "text/plain": [
       "KruskalResult(statistic=1.2379648858936207, pvalue=0.2658636307050985)"
      ]
     },
     "metadata": {},
     "output_type": "display_data"
    },
    {
     "name": "stdout",
     "output_type": "stream",
     "text": [
      "\n",
      "#----------------------#\n",
      "#   Insects vs Other   #\n",
      "#----------------------#\n",
      "\n",
      "Other & Insects have homogeneity of variances.\n"
     ]
    },
    {
     "data": {
      "text/plain": [
       "Ttest_indResult(statistic=-2.7269050176145995, pvalue=0.008480882101739381)"
      ]
     },
     "metadata": {},
     "output_type": "display_data"
    },
    {
     "name": "stdout",
     "output_type": "stream",
     "text": [
      "\n",
      "#-------------------#\n",
      "#   Fire vs Other   #\n",
      "#-------------------#\n",
      "\n",
      "Fire & Other have homogeneity of variances.\n"
     ]
    },
    {
     "data": {
      "text/plain": [
       "Ttest_indResult(statistic=-1.123942294164999, pvalue=0.26498965311199557)"
      ]
     },
     "metadata": {},
     "output_type": "display_data"
    },
    {
     "name": "stdout",
     "output_type": "stream",
     "text": [
      "\n",
      "=========\n",
      "|       |\n",
      "|   c   |\n",
      "|       |\n",
      "=========\n",
      "\n",
      "\n",
      "#---------------------#\n",
      "#   Insects vs Fire   #\n",
      "#---------------------#\n",
      "\n"
     ]
    },
    {
     "data": {
      "text/plain": [
       "KruskalResult(statistic=nan, pvalue=nan)"
      ]
     },
     "metadata": {},
     "output_type": "display_data"
    },
    {
     "name": "stdout",
     "output_type": "stream",
     "text": [
      "\n",
      "#----------------------#\n",
      "#   Insects vs Other   #\n",
      "#----------------------#\n",
      "\n"
     ]
    },
    {
     "data": {
      "text/plain": [
       "KruskalResult(statistic=nan, pvalue=nan)"
      ]
     },
     "metadata": {},
     "output_type": "display_data"
    },
    {
     "name": "stdout",
     "output_type": "stream",
     "text": [
      "\n",
      "#-------------------#\n",
      "#   Fire vs Other   #\n",
      "#-------------------#\n",
      "\n",
      "Fire & Other have homogeneity of variances.\n"
     ]
    },
    {
     "data": {
      "text/plain": [
       "Ttest_indResult(statistic=2.743571368849032, pvalue=0.008760528736733105)"
      ]
     },
     "metadata": {},
     "output_type": "display_data"
    }
   ],
   "source": [
    "\n",
    "\n",
    "for l,level in enumerate(level_option_list):\n",
    "    \n",
    "    bd.print_TITLE(level)\n",
    "    mtf_type = mtf['MTF basis'].unique()\n",
    "    \n",
    "    mtf = data[l]\n",
    "    print(len(mtf))\n",
    "    for t in range(len(mtf_type)):\n",
    "        \n",
    "        bd.print_title(mtf_type[t])\n",
    "        #--- Make t-test between groups of data\n",
    "        alpha=0.05\n",
    "        mtf = data[0]\n",
    "        bd.print_header('Insects vs Fire')\n",
    "        a = mtf[(mtf.Mortality == 'Insects') & (mtf['MTF basis'] == mtf_type[t])].MTF.values\n",
    "        b = mtf[(mtf.Fire == 1) & (mtf['MTF basis'] == mtf_type[t])].MTF.values\n",
    "        stat, p = levene(a, b)\n",
    "        if p > alpha:\n",
    "            print('Fire & Insects have homogeneity of variances.')\n",
    "            display(ttest_ind(a,b))\n",
    "        else:\n",
    "            display(kruskal(a, b))\n",
    "\n",
    "\n",
    "\n",
    "        bd.print_header('Insects vs Other')\n",
    "        a = mtf[(mtf.Mortality == 'Insects') & (mtf['MTF basis'] == mtf_type[t])].MTF.values\n",
    "        b = mtf[(mtf.Mort_other == 1) & (mtf['MTF basis'] == mtf_type[t])].MTF.values\n",
    "        stat, p = levene(a, b)\n",
    "        if p > alpha:\n",
    "            print('Other & Insects have homogeneity of variances.')\n",
    "            display(ttest_ind(a,b))\n",
    "        else:\n",
    "            display(kruskal(a, b))\n",
    "\n",
    "        bd.print_header('Fire vs Other')\n",
    "        a = mtf[(mtf.Fire == 1) & (mtf['MTF basis'] == mtf_type[t])].MTF.values\n",
    "        b = mtf[(mtf.Mort_other == 1) & (mtf['MTF basis'] == mtf_type[t])].MTF.values\n",
    "        stat, p = levene(a, b)\n",
    "        if p > alpha:\n",
    "            print('Fire & Other have homogeneity of variances.')\n",
    "            display(ttest_ind(a,b))\n",
    "        else:\n",
    "            display(kruskal(a, b))\n"
   ]
  },
  {
   "cell_type": "code",
   "execution_count": null,
   "metadata": {},
   "outputs": [],
   "source": []
  }
 ],
 "metadata": {
  "kernelspec": {
   "display_name": "P3_21",
   "language": "python",
   "name": "p3_21"
  },
  "language_info": {
   "codemirror_mode": {
    "name": "ipython",
    "version": 3
   },
   "file_extension": ".py",
   "mimetype": "text/x-python",
   "name": "python",
   "nbconvert_exporter": "python",
   "pygments_lexer": "ipython3",
   "version": "3.8.5"
  }
 },
 "nbformat": 4,
 "nbformat_minor": 2
}
