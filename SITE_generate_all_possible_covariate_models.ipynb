{
 "cells": [
  {
   "cell_type": "code",
   "execution_count": 1,
   "metadata": {
    "execution": {
     "iopub.execute_input": "2023-01-17T12:55:56.950396Z",
     "iopub.status.busy": "2023-01-17T12:55:56.949829Z",
     "iopub.status.idle": "2023-01-17T12:55:56.952138Z",
     "shell.execute_reply": "2023-01-17T12:55:56.952639Z"
    }
   },
   "outputs": [
    {
     "data": {
      "application/javascript": [
       "IPython.OutputArea.prototype._should_scroll = function(lines) {\n",
       "    return false;\n",
       "    \n",
       "}\n"
      ],
      "text/plain": [
       "<IPython.core.display.Javascript object>"
      ]
     },
     "metadata": {},
     "output_type": "display_data"
    }
   ],
   "source": [
    "%%javascript\n",
    "IPython.OutputArea.prototype._should_scroll = function(lines) {\n",
    "    return false;\n",
    "    \n",
    "}"
   ]
  },
  {
   "cell_type": "code",
   "execution_count": 35,
   "metadata": {
    "execution": {
     "iopub.execute_input": "2023-01-17T12:55:56.957570Z",
     "iopub.status.busy": "2023-01-17T12:55:56.957074Z",
     "iopub.status.idle": "2023-01-17T12:55:57.630029Z",
     "shell.execute_reply": "2023-01-17T12:55:57.630466Z"
    }
   },
   "outputs": [],
   "source": [
    "# Load libraries\n",
    "import numpy as np\n",
    "import pandas as pd\n",
    "import sys\n",
    "import itertools\n",
    "import os \n",
    "import pickle\n",
    "\n",
    "\n",
    "from classes import functions as fcy\n",
    "\n",
    "\n",
    "#--- Notebook run settings\n",
    "run = 'command line' # 'manual' 'command line'\n",
    "#run = 'manual'\n",
    "\n",
    "#--- Arguments\n",
    "if run == 'command line':\n",
    "    \n",
    "    # Read command line arguments\n",
    "    arguments = os.environ['NB_ARGS']\n",
    "    today_str = arguments\n",
    "else:\n",
    "    today_str = '230207_Full'\n",
    "\n",
    "%matplotlib inline\n",
    "%config Completer.use_jedi = False "
   ]
  },
  {
   "cell_type": "code",
   "execution_count": 36,
   "metadata": {
    "execution": {
     "iopub.execute_input": "2023-01-17T12:55:57.633100Z",
     "iopub.status.busy": "2023-01-17T12:55:57.632636Z",
     "iopub.status.idle": "2023-01-17T12:55:57.634647Z",
     "shell.execute_reply": "2023-01-17T12:55:57.634979Z"
    }
   },
   "outputs": [
    {
     "data": {
      "text/plain": [
       "'230117_Fulli_Management'"
      ]
     },
     "execution_count": 36,
     "metadata": {},
     "output_type": "execute_result"
    }
   ],
   "source": [
    "today_str"
   ]
  },
  {
   "cell_type": "code",
   "execution_count": 37,
   "metadata": {
    "execution": {
     "iopub.execute_input": "2023-01-17T12:55:57.640364Z",
     "iopub.status.busy": "2023-01-17T12:55:57.639844Z",
     "iopub.status.idle": "2023-01-17T12:55:57.642782Z",
     "shell.execute_reply": "2023-01-17T12:55:57.643251Z"
    }
   },
   "outputs": [
    {
     "name": "stdout",
     "output_type": "stream",
     "text": [
      "79\n"
     ]
    }
   ],
   "source": [
    "#--- SITE\n",
    "#----------------------#\n",
    "#   Create dataframe   #\n",
    "#----------------------#\n",
    "\n",
    "\n",
    "#--- Climate influence on decomposition expressed by Temp and Moisture variables (except Humidity)\n",
    "var_groups1 = {'temperature':['MAT','MATsoil'],\n",
    "              \n",
    "              'moisture':['MAP', 'Humidity', 'Soil_water', 'Soil_water_max'\n",
    "                         ],\n",
    "              \n",
    "              'Substrate_quality':['PFT'],\n",
    "              \n",
    "              'Size':['DBH_mean'], \n",
    "              #'Mortality':['Mortality'], \n",
    "              'Management':['Managed']\n",
    "              }\n",
    "\n",
    "#--- Climate influence expressed by CDI\n",
    "var_groups2 = {'CDI':['CDI'],\n",
    "              \n",
    "              'Substrate_quality':['PFT'],\n",
    "              \n",
    "              'Size':['DBH_mean'], \n",
    "              #'Mortality':['Mortality'], \n",
    "              'Management':['Managed']\n",
    "             }\n",
    "\n",
    "\n",
    "if 'Moisture' not in today_str:\n",
    "    var_groups1['moisture'] = ['MAP', 'Humidity'] # Removing the influence of other moisture vars\n",
    "\n",
    "    \n",
    "    \n",
    "#--- Make unique combinations of variables\n",
    "# For seperate climate variables\n",
    "\n",
    "# For seperate climate variables\n",
    "if 'Management' not in today_str:\n",
    "    var_groups1.pop('Management', None)\n",
    "    var_groups1.pop('Management', None)\n",
    "    # Set interaction to true to test interaction effect, here set to false to minimise runtime\n",
    "    var_group1_models = fcy.unique_models_fixed_interaction(var_groups1, interaction=False) \n",
    "else:\n",
    "    # Set interaction to true to test interaction effect, here set to false to minimise runtime\n",
    "    var_group1_models = fcy.unique_models_fixed_interaction(var_groups1, interaction=False)\n",
    "\n",
    "# For CDI\n",
    "if 'Management' not in today_str: \n",
    "    var_groups2.pop('Management', None)\n",
    "    var_groups2.pop('Management', None)\n",
    "    # Set interaction to true to test interaction effect, here set to false to minimise runtime\n",
    "    var_group2_models = fcy.unique_models_fixed_interaction(var_groups2, interaction=False) \n",
    "else:\n",
    "    # Set interaction to true to test interaction effect, here set to false to minimise runtime\n",
    "    var_group2_models = fcy.unique_models_fixed_interaction(var_groups2, interaction=False)\n",
    "\n",
    "# Combine to experiment list\n",
    "var_models = var_group1_models + var_group2_models\n",
    "\n",
    "# Remove duplicates\n",
    "var_models = list(np.unique(np.array(var_models))) \n",
    "\n",
    "var_models = ['MTF ~ '+m for m in var_models]\n",
    "print(len(var_models))\n",
    "\n",
    "# Store experiments for regressions\n",
    "with open('site_reg_results/'+today_str+'_SITE_reg_experiments_list.pkl', 'wb') as f:\n",
    "    pickle.dump(var_models, f)"
   ]
  },
  {
   "cell_type": "code",
   "execution_count": 38,
   "metadata": {
    "execution": {
     "iopub.execute_input": "2023-01-17T12:55:57.646385Z",
     "iopub.status.busy": "2023-01-17T12:55:57.645943Z",
     "iopub.status.idle": "2023-01-17T12:55:57.647852Z",
     "shell.execute_reply": "2023-01-17T12:55:57.648277Z"
    }
   },
   "outputs": [
    {
     "data": {
      "text/plain": [
       "['MTF ~ CDI',\n",
       " 'MTF ~ CDI + DBH_mean',\n",
       " 'MTF ~ CDI + DBH_mean + Managed',\n",
       " 'MTF ~ CDI + Managed',\n",
       " 'MTF ~ CDI + PFT',\n",
       " 'MTF ~ CDI + PFT + DBH_mean',\n",
       " 'MTF ~ CDI + PFT + DBH_mean + Managed',\n",
       " 'MTF ~ CDI + PFT + Managed',\n",
       " 'MTF ~ DBH_mean',\n",
       " 'MTF ~ DBH_mean + Managed',\n",
       " 'MTF ~ Humidity',\n",
       " 'MTF ~ Humidity + DBH_mean',\n",
       " 'MTF ~ Humidity + DBH_mean + Managed',\n",
       " 'MTF ~ Humidity + Managed',\n",
       " 'MTF ~ Humidity + PFT',\n",
       " 'MTF ~ Humidity + PFT + DBH_mean',\n",
       " 'MTF ~ Humidity + PFT + DBH_mean + Managed',\n",
       " 'MTF ~ Humidity + PFT + Managed',\n",
       " 'MTF ~ MAP',\n",
       " 'MTF ~ MAP + DBH_mean',\n",
       " 'MTF ~ MAP + DBH_mean + Managed',\n",
       " 'MTF ~ MAP + Managed',\n",
       " 'MTF ~ MAP + PFT',\n",
       " 'MTF ~ MAP + PFT + DBH_mean',\n",
       " 'MTF ~ MAP + PFT + DBH_mean + Managed',\n",
       " 'MTF ~ MAP + PFT + Managed',\n",
       " 'MTF ~ MAT',\n",
       " 'MTF ~ MAT + DBH_mean',\n",
       " 'MTF ~ MAT + DBH_mean + Managed',\n",
       " 'MTF ~ MAT + Humidity',\n",
       " 'MTF ~ MAT + Humidity + DBH_mean',\n",
       " 'MTF ~ MAT + Humidity + DBH_mean + Managed',\n",
       " 'MTF ~ MAT + Humidity + Managed',\n",
       " 'MTF ~ MAT + Humidity + PFT',\n",
       " 'MTF ~ MAT + Humidity + PFT + DBH_mean',\n",
       " 'MTF ~ MAT + Humidity + PFT + DBH_mean + Managed',\n",
       " 'MTF ~ MAT + Humidity + PFT + Managed',\n",
       " 'MTF ~ MAT + MAP',\n",
       " 'MTF ~ MAT + MAP + DBH_mean',\n",
       " 'MTF ~ MAT + MAP + DBH_mean + Managed',\n",
       " 'MTF ~ MAT + MAP + Managed',\n",
       " 'MTF ~ MAT + MAP + PFT',\n",
       " 'MTF ~ MAT + MAP + PFT + DBH_mean',\n",
       " 'MTF ~ MAT + MAP + PFT + DBH_mean + Managed',\n",
       " 'MTF ~ MAT + MAP + PFT + Managed',\n",
       " 'MTF ~ MAT + Managed',\n",
       " 'MTF ~ MAT + PFT',\n",
       " 'MTF ~ MAT + PFT + DBH_mean',\n",
       " 'MTF ~ MAT + PFT + DBH_mean + Managed',\n",
       " 'MTF ~ MAT + PFT + Managed',\n",
       " 'MTF ~ MATsoil',\n",
       " 'MTF ~ MATsoil + DBH_mean',\n",
       " 'MTF ~ MATsoil + DBH_mean + Managed',\n",
       " 'MTF ~ MATsoil + Humidity',\n",
       " 'MTF ~ MATsoil + Humidity + DBH_mean',\n",
       " 'MTF ~ MATsoil + Humidity + DBH_mean + Managed',\n",
       " 'MTF ~ MATsoil + Humidity + Managed',\n",
       " 'MTF ~ MATsoil + Humidity + PFT',\n",
       " 'MTF ~ MATsoil + Humidity + PFT + DBH_mean',\n",
       " 'MTF ~ MATsoil + Humidity + PFT + DBH_mean + Managed',\n",
       " 'MTF ~ MATsoil + Humidity + PFT + Managed',\n",
       " 'MTF ~ MATsoil + MAP',\n",
       " 'MTF ~ MATsoil + MAP + DBH_mean',\n",
       " 'MTF ~ MATsoil + MAP + DBH_mean + Managed',\n",
       " 'MTF ~ MATsoil + MAP + Managed',\n",
       " 'MTF ~ MATsoil + MAP + PFT',\n",
       " 'MTF ~ MATsoil + MAP + PFT + DBH_mean',\n",
       " 'MTF ~ MATsoil + MAP + PFT + DBH_mean + Managed',\n",
       " 'MTF ~ MATsoil + MAP + PFT + Managed',\n",
       " 'MTF ~ MATsoil + Managed',\n",
       " 'MTF ~ MATsoil + PFT',\n",
       " 'MTF ~ MATsoil + PFT + DBH_mean',\n",
       " 'MTF ~ MATsoil + PFT + DBH_mean + Managed',\n",
       " 'MTF ~ MATsoil + PFT + Managed',\n",
       " 'MTF ~ Managed',\n",
       " 'MTF ~ PFT',\n",
       " 'MTF ~ PFT + DBH_mean',\n",
       " 'MTF ~ PFT + DBH_mean + Managed',\n",
       " 'MTF ~ PFT + Managed']"
      ]
     },
     "metadata": {},
     "output_type": "display_data"
    }
   ],
   "source": [
    "import pickle\n",
    "with open('site_reg_results/'+today_str+'_SITE_reg_experiments_list.pkl', 'rb') as f:\n",
    "    experiments = pickle.load(f)\n",
    "\n",
    "display(experiments) "
   ]
  },
  {
   "cell_type": "code",
   "execution_count": null,
   "metadata": {},
   "outputs": [],
   "source": []
  }
 ],
 "metadata": {
  "kernelspec": {
   "display_name": "stats",
   "language": "python",
   "name": "stats"
  },
  "language_info": {
   "codemirror_mode": {
    "name": "ipython",
    "version": 3
   },
   "file_extension": ".py",
   "mimetype": "text/x-python",
   "name": "python",
   "nbconvert_exporter": "python",
   "pygments_lexer": "ipython3",
   "version": "3.8.5"
  }
 },
 "nbformat": 4,
 "nbformat_minor": 4
}
