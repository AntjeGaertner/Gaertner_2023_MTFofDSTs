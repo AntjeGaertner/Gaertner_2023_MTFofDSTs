{
 "cells": [
  {
   "cell_type": "code",
   "execution_count": 1,
   "metadata": {
    "execution": {
     "iopub.execute_input": "2023-01-17T12:55:56.950396Z",
     "iopub.status.busy": "2023-01-17T12:55:56.949829Z",
     "iopub.status.idle": "2023-01-17T12:55:56.952138Z",
     "shell.execute_reply": "2023-01-17T12:55:56.952639Z"
    }
   },
   "outputs": [
    {
     "data": {
      "application/javascript": [
       "IPython.OutputArea.prototype._should_scroll = function(lines) {\n",
       "    return false;\n",
       "    \n",
       "}\n"
      ],
      "text/plain": [
       "<IPython.core.display.Javascript object>"
      ]
     },
     "metadata": {},
     "output_type": "display_data"
    }
   ],
   "source": [
    "%%javascript\n",
    "IPython.OutputArea.prototype._should_scroll = function(lines) {\n",
    "    return false;\n",
    "    \n",
    "}"
   ]
  },
  {
   "cell_type": "code",
   "execution_count": 2,
   "metadata": {
    "execution": {
     "iopub.execute_input": "2023-01-17T12:55:56.957570Z",
     "iopub.status.busy": "2023-01-17T12:55:56.957074Z",
     "iopub.status.idle": "2023-01-17T12:55:57.630029Z",
     "shell.execute_reply": "2023-01-17T12:55:57.630466Z"
    }
   },
   "outputs": [],
   "source": [
    "# Load libraries\n",
    "import numpy as np\n",
    "import pandas as pd\n",
    "import sys\n",
    "import itertools\n",
    "import os \n",
    "import pickle\n",
    "\n",
    "\n",
    "from classes import functions as fcy\n",
    "\n",
    "\n",
    "#--- Notebook run settings\n",
    "run = 'command line' # 'manual' 'command line'\n",
    "#run = 'manual'\n",
    "\n",
    "#--- Arguments\n",
    "if run == 'command line':\n",
    "    \n",
    "    # Read command line arguments\n",
    "    arguments = os.environ['NB_ARGS']\n",
    "    today_str = arguments\n",
    "else:\n",
    "    today_str = '230317_Management_Moisture'\n",
    "\n",
    "%matplotlib inline\n",
    "%config Completer.use_jedi = False "
   ]
  },
  {
   "cell_type": "code",
   "execution_count": 3,
   "metadata": {
    "execution": {
     "iopub.execute_input": "2023-01-17T12:55:57.633100Z",
     "iopub.status.busy": "2023-01-17T12:55:57.632636Z",
     "iopub.status.idle": "2023-01-17T12:55:57.634647Z",
     "shell.execute_reply": "2023-01-17T12:55:57.634979Z"
    }
   },
   "outputs": [
    {
     "data": {
      "text/plain": [
       "'230317_Management_Moisture'"
      ]
     },
     "execution_count": 3,
     "metadata": {},
     "output_type": "execute_result"
    }
   ],
   "source": [
    "today_str"
   ]
  },
  {
   "cell_type": "code",
   "execution_count": 6,
   "metadata": {
    "execution": {
     "iopub.execute_input": "2023-01-17T12:55:57.640364Z",
     "iopub.status.busy": "2023-01-17T12:55:57.639844Z",
     "iopub.status.idle": "2023-01-17T12:55:57.642782Z",
     "shell.execute_reply": "2023-01-17T12:55:57.643251Z"
    }
   },
   "outputs": [
    {
     "name": "stdout",
     "output_type": "stream",
     "text": [
      "95\n"
     ]
    }
   ],
   "source": [
    "#--- SITE\n",
    "#----------------------#\n",
    "#   Create dataframe   #\n",
    "#----------------------#\n",
    "\n",
    "\n",
    "#--- Climate influence on decomposition expressed by Temp and Moisture variables (except Humidity)\n",
    "var_groups = {'temperature':['MAT','MATsoil'],\n",
    "              \n",
    "              'moisture':['MAP','Soil_water','Soil_water_max'\n",
    "                         ],\n",
    "              \n",
    "              'Substrate_quality':['PFT'],\n",
    "              \n",
    "              'Size':['DBH_mean'], \n",
    "              \n",
    "               #'Mortality':['Mortality'], \n",
    "              \n",
    "               'Management':['Managed']\n",
    "              }\n",
    "\n",
    "\n",
    "\n",
    "if 'Moisture' not in today_str:\n",
    "    var_groups['moisture'] = ['MAP'] # Removing the influence of other moisture vars\n",
    "    \n",
    "    \n",
    "#--- Make unique combinations of variables\n",
    "\n",
    "# For seperate climate variables\n",
    "if 'Management' not in today_str:\n",
    "    var_groups.pop('Management', None)\n",
    "\n",
    "    # Set interaction to true to test interaction effect, here set to false to minimise runtime\n",
    "    var_models = fcy.unique_models_fixed_interaction(var_groups, interaction=False) \n",
    "else:\n",
    "    # Set interaction to true to test interaction effect, here set to false to minimise runtime\n",
    "    var_models = fcy.unique_models_fixed_interaction(var_groups, interaction=False)\n",
    "\n",
    "\n",
    "# Remove duplicates\n",
    "var_models = list(np.unique(np.array(var_models))) \n",
    "\n",
    "var_models = ['MTF ~ '+m for m in var_models]\n",
    "print(len(var_models))\n",
    "\n",
    "# Store experiments for regressions\n",
    "with open('site_reg_results/'+today_str+'_SITE_reg_experiments_list.pkl', 'wb') as f:\n",
    "    pickle.dump(var_models, f)"
   ]
  },
  {
   "cell_type": "code",
   "execution_count": 7,
   "metadata": {
    "execution": {
     "iopub.execute_input": "2023-01-17T12:55:57.646385Z",
     "iopub.status.busy": "2023-01-17T12:55:57.645943Z",
     "iopub.status.idle": "2023-01-17T12:55:57.647852Z",
     "shell.execute_reply": "2023-01-17T12:55:57.648277Z"
    }
   },
   "outputs": [
    {
     "data": {
      "text/plain": [
       "['MTF ~ DBH_mean',\n",
       " 'MTF ~ DBH_mean + Managed',\n",
       " 'MTF ~ MAP',\n",
       " 'MTF ~ MAP + DBH_mean',\n",
       " 'MTF ~ MAP + DBH_mean + Managed',\n",
       " 'MTF ~ MAP + Managed',\n",
       " 'MTF ~ MAP + PFT',\n",
       " 'MTF ~ MAP + PFT + DBH_mean',\n",
       " 'MTF ~ MAP + PFT + DBH_mean + Managed',\n",
       " 'MTF ~ MAP + PFT + Managed',\n",
       " 'MTF ~ MAT',\n",
       " 'MTF ~ MAT + DBH_mean',\n",
       " 'MTF ~ MAT + DBH_mean + Managed',\n",
       " 'MTF ~ MAT + MAP',\n",
       " 'MTF ~ MAT + MAP + DBH_mean',\n",
       " 'MTF ~ MAT + MAP + DBH_mean + Managed',\n",
       " 'MTF ~ MAT + MAP + Managed',\n",
       " 'MTF ~ MAT + MAP + PFT',\n",
       " 'MTF ~ MAT + MAP + PFT + DBH_mean',\n",
       " 'MTF ~ MAT + MAP + PFT + DBH_mean + Managed',\n",
       " 'MTF ~ MAT + MAP + PFT + Managed',\n",
       " 'MTF ~ MAT + Managed',\n",
       " 'MTF ~ MAT + PFT',\n",
       " 'MTF ~ MAT + PFT + DBH_mean',\n",
       " 'MTF ~ MAT + PFT + DBH_mean + Managed',\n",
       " 'MTF ~ MAT + PFT + Managed',\n",
       " 'MTF ~ MAT + Soil_water',\n",
       " 'MTF ~ MAT + Soil_water + DBH_mean',\n",
       " 'MTF ~ MAT + Soil_water + DBH_mean + Managed',\n",
       " 'MTF ~ MAT + Soil_water + Managed',\n",
       " 'MTF ~ MAT + Soil_water + PFT',\n",
       " 'MTF ~ MAT + Soil_water + PFT + DBH_mean',\n",
       " 'MTF ~ MAT + Soil_water + PFT + DBH_mean + Managed',\n",
       " 'MTF ~ MAT + Soil_water + PFT + Managed',\n",
       " 'MTF ~ MAT + Soil_water_max',\n",
       " 'MTF ~ MAT + Soil_water_max + DBH_mean',\n",
       " 'MTF ~ MAT + Soil_water_max + DBH_mean + Managed',\n",
       " 'MTF ~ MAT + Soil_water_max + Managed',\n",
       " 'MTF ~ MAT + Soil_water_max + PFT',\n",
       " 'MTF ~ MAT + Soil_water_max + PFT + DBH_mean',\n",
       " 'MTF ~ MAT + Soil_water_max + PFT + DBH_mean + Managed',\n",
       " 'MTF ~ MAT + Soil_water_max + PFT + Managed',\n",
       " 'MTF ~ MATsoil',\n",
       " 'MTF ~ MATsoil + DBH_mean',\n",
       " 'MTF ~ MATsoil + DBH_mean + Managed',\n",
       " 'MTF ~ MATsoil + MAP',\n",
       " 'MTF ~ MATsoil + MAP + DBH_mean',\n",
       " 'MTF ~ MATsoil + MAP + DBH_mean + Managed',\n",
       " 'MTF ~ MATsoil + MAP + Managed',\n",
       " 'MTF ~ MATsoil + MAP + PFT',\n",
       " 'MTF ~ MATsoil + MAP + PFT + DBH_mean',\n",
       " 'MTF ~ MATsoil + MAP + PFT + DBH_mean + Managed',\n",
       " 'MTF ~ MATsoil + MAP + PFT + Managed',\n",
       " 'MTF ~ MATsoil + Managed',\n",
       " 'MTF ~ MATsoil + PFT',\n",
       " 'MTF ~ MATsoil + PFT + DBH_mean',\n",
       " 'MTF ~ MATsoil + PFT + DBH_mean + Managed',\n",
       " 'MTF ~ MATsoil + PFT + Managed',\n",
       " 'MTF ~ MATsoil + Soil_water',\n",
       " 'MTF ~ MATsoil + Soil_water + DBH_mean',\n",
       " 'MTF ~ MATsoil + Soil_water + DBH_mean + Managed',\n",
       " 'MTF ~ MATsoil + Soil_water + Managed',\n",
       " 'MTF ~ MATsoil + Soil_water + PFT',\n",
       " 'MTF ~ MATsoil + Soil_water + PFT + DBH_mean',\n",
       " 'MTF ~ MATsoil + Soil_water + PFT + DBH_mean + Managed',\n",
       " 'MTF ~ MATsoil + Soil_water + PFT + Managed',\n",
       " 'MTF ~ MATsoil + Soil_water_max',\n",
       " 'MTF ~ MATsoil + Soil_water_max + DBH_mean',\n",
       " 'MTF ~ MATsoil + Soil_water_max + DBH_mean + Managed',\n",
       " 'MTF ~ MATsoil + Soil_water_max + Managed',\n",
       " 'MTF ~ MATsoil + Soil_water_max + PFT',\n",
       " 'MTF ~ MATsoil + Soil_water_max + PFT + DBH_mean',\n",
       " 'MTF ~ MATsoil + Soil_water_max + PFT + DBH_mean + Managed',\n",
       " 'MTF ~ MATsoil + Soil_water_max + PFT + Managed',\n",
       " 'MTF ~ Managed',\n",
       " 'MTF ~ PFT',\n",
       " 'MTF ~ PFT + DBH_mean',\n",
       " 'MTF ~ PFT + DBH_mean + Managed',\n",
       " 'MTF ~ PFT + Managed',\n",
       " 'MTF ~ Soil_water',\n",
       " 'MTF ~ Soil_water + DBH_mean',\n",
       " 'MTF ~ Soil_water + DBH_mean + Managed',\n",
       " 'MTF ~ Soil_water + Managed',\n",
       " 'MTF ~ Soil_water + PFT',\n",
       " 'MTF ~ Soil_water + PFT + DBH_mean',\n",
       " 'MTF ~ Soil_water + PFT + DBH_mean + Managed',\n",
       " 'MTF ~ Soil_water + PFT + Managed',\n",
       " 'MTF ~ Soil_water_max',\n",
       " 'MTF ~ Soil_water_max + DBH_mean',\n",
       " 'MTF ~ Soil_water_max + DBH_mean + Managed',\n",
       " 'MTF ~ Soil_water_max + Managed',\n",
       " 'MTF ~ Soil_water_max + PFT',\n",
       " 'MTF ~ Soil_water_max + PFT + DBH_mean',\n",
       " 'MTF ~ Soil_water_max + PFT + DBH_mean + Managed',\n",
       " 'MTF ~ Soil_water_max + PFT + Managed']"
      ]
     },
     "metadata": {},
     "output_type": "display_data"
    }
   ],
   "source": [
    "import pickle\n",
    "with open('site_reg_results/'+today_str+'_SITE_reg_experiments_list.pkl', 'rb') as f:\n",
    "    experiments = pickle.load(f)\n",
    "\n",
    "display(experiments) "
   ]
  }
 ],
 "metadata": {
  "kernelspec": {
   "display_name": "stats",
   "language": "python",
   "name": "stats"
  },
  "language_info": {
   "codemirror_mode": {
    "name": "ipython",
    "version": 3
   },
   "file_extension": ".py",
   "mimetype": "text/x-python",
   "name": "python",
   "nbconvert_exporter": "python",
   "pygments_lexer": "ipython3",
   "version": "3.8.5"
  }
 },
 "nbformat": 4,
 "nbformat_minor": 4
}
